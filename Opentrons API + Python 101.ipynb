{
 "cells": [
  {
   "cell_type": "markdown",
   "metadata": {},
   "source": [
    "# Opentrons API 101\n",
    "\n",
    "## Introduction\n",
    "In this tutorial you will learn the essential steps to write and run your first protocol for Opentrons robot and you'll also learn some Python along the way. You can edit and run protocol code in each cell by clicking \"Play\" button on the toolbar, or by clicking `Shift+Enter` inside the cell. If something goes wrong and you don't know what's happening, you can always restart the notebook by clicking \"Kernel->Restart & Clear Output\".\n",
    "\n",
    "## Basic Python\n",
    "The protocols you will be writing using Opentrons API are, essentially written in Python language. While you don't have to be a programmer and don't have to know all the details of this beautiful language, here are some basics that will help you get up and running quickly.\n",
    "\n",
    "### What is Python?\n",
    "Python is an easy-to-learn programming language that has some really useful features for a beginning programmer. The code is quite easy to read when compared to other programming languages, and it has an interactive shells, such as Jupyter, into which you can enter your programs and see them run.[Quote Python for Kids]\n"
   ]
  },
  {
   "cell_type": "markdown",
   "metadata": {},
   "source": [
    "### Hello World\n",
    "Let's write our first line in Python and print \"Hello World\". Try running it by navigating into a cell below and click `Shift+Enter`. Later you will find `print()` function useful for printing the values of your variables, plates, instruments, etc."
   ]
  },
  {
   "cell_type": "code",
   "execution_count": null,
   "metadata": {
    "collapsed": true
   },
   "outputs": [],
   "source": [
    "print(\"Hello World\")"
   ]
  },
  {
   "cell_type": "markdown",
   "metadata": {},
   "source": [
    "### Variables\n",
    "The word variable in programming describes a place to store information such as numbers, text, lists of numbers and text, and so on. Another way of looking at a variable is that it’s like a label for something. For example, to create a variable named `volume`, we use an equal sign (=) and then tell Python what information the variable should be the label for. Here, we create the variable `volume` and tell Python that it labels the number 100 (note that this doesn’t mean that another variable can’t have the same value):"
   ]
  },
  {
   "cell_type": "code",
   "execution_count": 8,
   "metadata": {
    "collapsed": false
   },
   "outputs": [
    {
     "name": "stdout",
     "output_type": "stream",
     "text": [
      "100\n"
     ]
    }
   ],
   "source": [
    "volume = 100\n",
    "print(volume)"
   ]
  },
  {
   "cell_type": "markdown",
   "metadata": {},
   "source": [
    "Now let's create another variable, `samples`, do some calculations and store them in another variable `total_volume` and print them."
   ]
  },
  {
   "cell_type": "code",
   "execution_count": 3,
   "metadata": {
    "collapsed": false
   },
   "outputs": [
    {
     "name": "stdout",
     "output_type": "stream",
     "text": [
      "4200\n"
     ]
    }
   ],
   "source": [
    "samples = 42\n",
    "total_volume = volume * samples\n",
    "print(total_volume)"
   ]
  },
  {
   "cell_type": "markdown",
   "metadata": {},
   "source": [
    "As you can see, we can declare variables in once cell and reference them in another. Just make sure you run that cell to declare or update the value before referencing it further."
   ]
  },
  {
   "cell_type": "markdown",
   "metadata": {},
   "source": [
    "Variables can be simple numbers, strings or booleans"
   ]
  },
  {
   "cell_type": "code",
   "execution_count": null,
   "metadata": {
    "collapsed": true
   },
   "outputs": [],
   "source": [
    "string_variable = 'Hello world'\n",
    "integer_variable = 1\n",
    "non_integer_variable = 1.0   # These are called floating point variables in programming\n",
    "boolean_variable = True      # ... or false"
   ]
  },
  {
   "cell_type": "markdown",
   "metadata": {},
   "source": [
    "We can apply arithmetic operations to numbers and booleans (which would turn them into 0 or 1 for False and True). And we can use `+` operation for string variables that would glue two strings together. This is called concatenation. \n",
    "Try it!"
   ]
  },
  {
   "cell_type": "code",
   "execution_count": 4,
   "metadata": {
    "collapsed": false
   },
   "outputs": [
    {
     "name": "stdout",
     "output_type": "stream",
     "text": [
      "John Doe\n"
     ]
    }
   ],
   "source": [
    "name = \"John\"\n",
    "last_name = \"Doe\"\n",
    "print(name + \" \" + last_name)"
   ]
  },
  {
   "cell_type": "markdown",
   "metadata": {},
   "source": [
    "You can also use `+` for string and a non-string, but you should wrap a non-string with `str()` to turn it into a string. Then Python would treat both as strings and concatenate two."
   ]
  },
  {
   "cell_type": "code",
   "execution_count": 7,
   "metadata": {
    "collapsed": false
   },
   "outputs": [
    {
     "name": "stdout",
     "output_type": "stream",
     "text": [
      "Answer: 42\n"
     ]
    }
   ],
   "source": [
    "answer = \"Answer: \"\n",
    "number = 42\n",
    "print(answer + str(number))"
   ]
  },
  {
   "cell_type": "markdown",
   "metadata": {},
   "source": [
    "### Tuples, List, Dictionaries\n",
    "Besides simple variables there are more advanced ones, that can help us in protocol writing.\n",
    "#### Lists and Tuples\n",
    "When you want to store multiple values in one variable you'll need lists or tuples. If you want to be adding/remove values, you'll need a list. If you want to store them without changing, tuples are great."
   ]
  },
  {
   "cell_type": "code",
   "execution_count": null,
   "metadata": {
    "collapsed": true
   },
   "outputs": [],
   "source": []
  },
  {
   "cell_type": "markdown",
   "metadata": {},
   "source": [
    "## Structure of the Protocol\n",
    "Each protocol consists of the following steps:\n",
    "* Install / Upgrade Opentrons API\n",
    "* Import Opentrons API into your Notebook\n",
    "* Initialize the robot\n",
    "* "
   ]
  }
 ],
 "metadata": {
  "kernelspec": {
   "display_name": "Python 3",
   "language": "python",
   "name": "python3"
  },
  "language_info": {
   "codemirror_mode": {
    "name": "ipython",
    "version": 3
   },
   "file_extension": ".py",
   "mimetype": "text/x-python",
   "name": "python",
   "nbconvert_exporter": "python",
   "pygments_lexer": "ipython3",
   "version": "3.5.1"
  }
 },
 "nbformat": 4,
 "nbformat_minor": 0
}
