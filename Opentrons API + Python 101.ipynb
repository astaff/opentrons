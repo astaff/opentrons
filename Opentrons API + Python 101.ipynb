{
 "cells": [
  {
   "cell_type": "markdown",
   "metadata": {},
   "source": [
    "# Opentrons API 101\n",
    "\n",
    "## Introduction\n",
    "In this tutorial you will learn the essential steps to write and run your first protocol for Opentrons robot and you'll also learn some Python along the way. You can edit and run protocol code in each cell by clicking \"Play\" button on the toolbar, or by clicking `Shift+Enter` inside the cell. If something goes wrong and you don't know what's happening, you can always restart the notebook by clicking \"Kernel->Restart & Clear Output\".\n",
    "\n",
    "## Basic Python\n",
    "The protocols you will be writing using Opentrons API are, essentially written in Python language. While you don't have to be a programmer and don't have to know all the details of this beautiful language, here are some basics that will help you get up and running quickly.\n",
    "\n",
    "### What is Python?\n",
    "Python is an easy-to-learn programming language that has some really useful features for a beginning programmer. The code is quite easy to read when compared to other programming languages, and it has an interactive shells, such as Jupyter, into which you can enter your programs and see them run.[Quote Python for Kids]\n"
   ]
  },
  {
   "cell_type": "markdown",
   "metadata": {},
   "source": [
    "### Hello World\n",
    "Let's write our first line in Python and print \"Hello World\". Try running it by navigating into a cell below and click `Shift+Enter`. Later you will find `print()` function useful for printing the values of your variables, plates, instruments, etc."
   ]
  },
  {
   "cell_type": "code",
   "execution_count": 29,
   "metadata": {
    "collapsed": false
   },
   "outputs": [
    {
     "name": "stdout",
     "output_type": "stream",
     "text": [
      "Hello World\n"
     ]
    }
   ],
   "source": [
    "print(\"Hello World\")"
   ]
  },
  {
   "cell_type": "markdown",
   "metadata": {},
   "source": [
    "### Variables\n",
    "The word variable in programming describes a place to store information such as numbers, text, lists of numbers and text, and so on. Another way of looking at a variable is that it’s like a label for something. For example, to create a variable named `volume`, we use an equal sign (=) and then tell Python what information the variable should be the label for. Here, we create the variable `volume` and tell Python that it labels the number 100 (note that this doesn’t mean that another variable can’t have the same value):"
   ]
  },
  {
   "cell_type": "code",
   "execution_count": 30,
   "metadata": {
    "collapsed": false
   },
   "outputs": [
    {
     "name": "stdout",
     "output_type": "stream",
     "text": [
      "100\n"
     ]
    }
   ],
   "source": [
    "volume = 100\n",
    "print(volume)"
   ]
  },
  {
   "cell_type": "markdown",
   "metadata": {},
   "source": [
    "Now let's create another variable, `samples`, do some calculations and store them in another variable `total_volume` and print them."
   ]
  },
  {
   "cell_type": "code",
   "execution_count": 31,
   "metadata": {
    "collapsed": false
   },
   "outputs": [
    {
     "name": "stdout",
     "output_type": "stream",
     "text": [
      "4200\n"
     ]
    }
   ],
   "source": [
    "samples = 42\n",
    "total_volume = volume * samples\n",
    "print(total_volume)"
   ]
  },
  {
   "cell_type": "markdown",
   "metadata": {},
   "source": [
    "As you can see, we can declare variables in once cell and reference them in another. Just make sure you run that cell to declare or update the value before referencing it further."
   ]
  },
  {
   "cell_type": "markdown",
   "metadata": {},
   "source": [
    "Variables can be simple numbers, strings or booleans"
   ]
  },
  {
   "cell_type": "code",
   "execution_count": 32,
   "metadata": {
    "collapsed": true
   },
   "outputs": [],
   "source": [
    "string_variable = 'Hello world'\n",
    "integer_variable = 1\n",
    "non_integer_variable = 1.0   # These are called floating point variables in programming\n",
    "boolean_variable = True      # ... or false"
   ]
  },
  {
   "cell_type": "markdown",
   "metadata": {},
   "source": [
    "We can apply arithmetic operations to numbers and booleans (which would turn them into 0 or 1 for False and True). And we can use `+` operation for string variables that would glue two strings together. This is called concatenation. \n",
    "Try it!"
   ]
  },
  {
   "cell_type": "code",
   "execution_count": 33,
   "metadata": {
    "collapsed": false
   },
   "outputs": [
    {
     "name": "stdout",
     "output_type": "stream",
     "text": [
      "John Doe\n"
     ]
    }
   ],
   "source": [
    "name = \"John\"\n",
    "last_name = \"Doe\"\n",
    "print(name + \" \" + last_name)"
   ]
  },
  {
   "cell_type": "markdown",
   "metadata": {},
   "source": [
    "You can also use `+` for string and a non-string, but you should wrap a non-string with `str()` to turn it into a string. Then Python would treat both as strings and concatenate two."
   ]
  },
  {
   "cell_type": "code",
   "execution_count": 34,
   "metadata": {
    "collapsed": false
   },
   "outputs": [
    {
     "name": "stdout",
     "output_type": "stream",
     "text": [
      "Answer: 42\n"
     ]
    }
   ],
   "source": [
    "answer = \"Answer: \"\n",
    "number = 42\n",
    "print(answer + str(number))"
   ]
  },
  {
   "cell_type": "markdown",
   "metadata": {},
   "source": [
    "### Lists and Dictionaries\n",
    "Besides simple variables there are more advanced ones, that can help us in protocol writing.\n",
    "#### Lists\n",
    "Now, imagine you want to store multiple values, under the same name. For example, a list of names. When you want to store multiple values in one variable you'll need lists."
   ]
  },
  {
   "cell_type": "code",
   "execution_count": 13,
   "metadata": {
    "collapsed": false
   },
   "outputs": [
    {
     "name": "stdout",
     "output_type": "stream",
     "text": [
      "Albert Einstein\n"
     ]
    }
   ],
   "source": [
    "# lists\n",
    "names = ['Albert', 'Niels']\n",
    "last_names = ['Einstein', 'Bohr']\n",
    "\n",
    "# you can add items to lists\n",
    "names.append('Erwin')\n",
    "last_names.append('Schrödinger')\n",
    "\n",
    "# you can access individual items using indexes\n",
    "print(names[0] + ' ' + last_names[0])\n"
   ]
  },
  {
   "cell_type": "markdown",
   "metadata": {},
   "source": [
    "You can also add lists using `+` which would join them together"
   ]
  },
  {
   "cell_type": "code",
   "execution_count": 15,
   "metadata": {
    "collapsed": false
   },
   "outputs": [
    {
     "name": "stdout",
     "output_type": "stream",
     "text": [
      "['a', 'b', 'c', 'd']\n"
     ]
    }
   ],
   "source": [
    "list_1 = ['a', 'b']\n",
    "list_2 = ['c', 'd']\n",
    "\n",
    "new_list = list_1 + list_2\n",
    "\n",
    "print(new_list)"
   ]
  },
  {
   "cell_type": "markdown",
   "metadata": {},
   "source": [
    "#### Dictionaries\n",
    "When you want to add more structure to your variables, you can use dictionaries. Dictionaries have a key-value structure, where you can access a value by providing a key. A value can be another key-value."
   ]
  },
  {
   "cell_type": "code",
   "execution_count": 16,
   "metadata": {
    "collapsed": false
   },
   "outputs": [
    {
     "name": "stdout",
     "output_type": "stream",
     "text": [
      "Albert Einstein\n"
     ]
    }
   ],
   "source": [
    "name = {\n",
    "    'first': 'Albert',\n",
    "    'last': 'Einstein'\n",
    "}\n",
    "print(name['first'] + ' ' + name['last'])"
   ]
  },
  {
   "cell_type": "markdown",
   "metadata": {},
   "source": [
    "### Loops\n",
    "With lists and dictionaries you want to be able to loop through their items. There are many ways to do that, choose one that works best for you"
   ]
  },
  {
   "cell_type": "code",
   "execution_count": 23,
   "metadata": {
    "collapsed": false
   },
   "outputs": [
    {
     "name": "stdout",
     "output_type": "stream",
     "text": [
      "Albert\n",
      "Niels\n",
      "Erwin\n",
      "------\n",
      "Albert\n",
      "Niels\n",
      "Erwin\n",
      "------\n",
      "width : 20\n",
      "height : 10\n"
     ]
    }
   ],
   "source": [
    "# given the list of names from the example above, print each name in the list\n",
    "for name in names:\n",
    "    print(name)  # print() will be called for each name in the list\n",
    "    \n",
    "print('------')\n",
    "# we can do the same with indexes len() gives you the length of the list and \n",
    "# range(x) gives you the list of numbers from 0 to x, not incuding x\n",
    "for i in range(len(names)):\n",
    "    print(names[i])\n",
    "    \n",
    "print('------')\n",
    "dimensions = {\n",
    "    \"height\": 10,\n",
    "    \"width\": 20\n",
    "}\n",
    "# to get key-value pairs from the dictionary, loop through it's items()\n",
    "# each item will consit of key and value, which will be unpacked into\n",
    "# single variables\n",
    "for key, value in dimensions.items():\n",
    "    print(key + ' : ' + str(value))"
   ]
  },
  {
   "cell_type": "markdown",
   "metadata": {},
   "source": [
    "### If-Else statements\n",
    "When you want to branch your logic depending on conditions, you can use if-else statements. it will evalate the expression into True or False and will use `if` branch if it's `True` or `else` if it's `False`. Try changing `size` to `200` and see what happens."
   ]
  },
  {
   "cell_type": "code",
   "execution_count": 24,
   "metadata": {
    "collapsed": false
   },
   "outputs": [
    {
     "name": "stdout",
     "output_type": "stream",
     "text": [
      "small\n"
     ]
    }
   ],
   "source": [
    "size = 100\n",
    "\n",
    "if size < 150:\n",
    "    print('small')\n",
    "else:\n",
    "    print('large')\n"
   ]
  },
  {
   "cell_type": "markdown",
   "metadata": {},
   "source": [
    "With these basic concepts you will be able to read, understand and write most of the protocols. Now let's take a look at Opentrons API and what we can build with it."
   ]
  },
  {
   "cell_type": "markdown",
   "metadata": {},
   "source": [
    "## Structure of the Protocol\n",
    "Each protocol consists of the following steps:\n",
    "* Install / Upgrade Opentrons API\n",
    "* Import Opentrons API into your Notebook\n",
    "* Initialize the robot\n",
    "* Write your commands\n",
    "* Execute\n",
    "\n",
    "Let's walk through each of these steps and build our first protocol to transfer liquid from a tube into a 96-well plate."
   ]
  },
  {
   "cell_type": "markdown",
   "metadata": {},
   "source": [
    "### Install / Upgrade Opentrons API\n",
    "Run this line to install or upgrade Opentrons API into your Jupyter environment. Make sure to re-run it every once in a while, to use the latest version of the API, as we are moving fast adding new features and fixing issues."
   ]
  },
  {
   "cell_type": "code",
   "execution_count": 35,
   "metadata": {
    "collapsed": false
   },
   "outputs": [
    {
     "name": "stdout",
     "output_type": "stream",
     "text": [
      "Collecting opentrons from git+https://github.com/OpenTrons/opentrons_sdk.git@master#egg=opentrons\n",
      "  Cloning https://github.com/OpenTrons/opentrons_sdk.git (to master) to /private/var/folders/v7/fp8wclkj0_q0g9bwyjvyksf00000gn/T/pip-build-q3ctws0j/opentrons\n",
      "\u001b[33m  Running setup.py (path:/private/var/folders/v7/fp8wclkj0_q0g9bwyjvyksf00000gn/T/pip-build-q3ctws0j/opentrons/setup.py) egg_info for package opentrons produced metadata for project name opentrons-sdk. Fix your #egg=opentrons fragments.\u001b[0m\n",
      "Requirement already up-to-date: pyserial==3.1.1 in /Users/astaff/anaconda3/lib/python3.5/site-packages (from opentrons-sdk)\n",
      "Installing collected packages: opentrons-sdk\n",
      "  Found existing installation: opentrons-sdk 1.0\n",
      "    Uninstalling opentrons-sdk-1.0:\n",
      "      Successfully uninstalled opentrons-sdk-1.0\n",
      "  Running setup.py install for opentrons-sdk ... \u001b[?25l-\b \b\\\b \b|\b \bdone\n",
      "\u001b[?25hSuccessfully installed opentrons-sdk-1.0\n",
      "\u001b[33mYou are using pip version 8.1.1, however version 8.1.2 is available.\n",
      "You should consider upgrading via the 'pip install --upgrade pip' command.\u001b[0m\n"
     ]
    }
   ],
   "source": [
    "!pip install --upgrade git+https://github.com/OpenTrons/opentrons_sdk.git@master#egg=opentrons"
   ]
  },
  {
   "cell_type": "markdown",
   "metadata": {},
   "source": [
    "### Import Opentrons API into your Notebook\n",
    "To instruct Python to use Opentrons API, run the following cell:"
   ]
  },
  {
   "cell_type": "code",
   "execution_count": 36,
   "metadata": {
    "collapsed": true
   },
   "outputs": [],
   "source": [
    "from opentrons_sdk import containers\n",
    "from opentrons_sdk import instruments\n",
    "from opentrons_sdk.robot import Robot"
   ]
  },
  {
   "cell_type": "markdown",
   "metadata": {},
   "source": [
    "### Initialize the robot"
   ]
  },
  {
   "cell_type": "code",
   "execution_count": 45,
   "metadata": {
    "collapsed": false
   },
   "outputs": [
    {
     "data": {
      "text/plain": [
       "<opentrons_sdk.robot.robot.Robot at 0x10459af60>"
      ]
     },
     "execution_count": 45,
     "metadata": {},
     "output_type": "execute_result"
    }
   ],
   "source": [
    "# Create a variable that will be your robot\n",
    "robot = Robot.get_instance()"
   ]
  },
  {
   "cell_type": "code",
   "execution_count": 51,
   "metadata": {
    "collapsed": false
   },
   "outputs": [
    {
     "data": {
      "text/plain": [
       "<opentrons_sdk.instruments.pipette.Pipette at 0x104c6cfd0>"
      ]
     },
     "execution_count": 51,
     "metadata": {},
     "output_type": "execute_result"
    }
   ],
   "source": [
    "# Reset the robot before placing anything on it\n",
    "robot.reset()\n",
    "\n",
    "# Build a deck, and initialize your instruments:\n",
    "p200rack = containers.load(\n",
    "    'tiprack-200ul',  # container type\n",
    "    'A1',             # slot\n",
    "    'p200-rack'       # user-defined name, optional for now\n",
    ")\n",
    "\n",
    "tuberack = containers.load(\n",
    "    'tube-rack-2ml',\n",
    "    'B1',\n",
    "    'tube rack'       # This is optional\n",
    ")\n",
    "\n",
    "output = containers.load(\n",
    "    '96-PCR-flat',\n",
    "    'C1',\n",
    "    'output'          # This is optional\n",
    ")\n",
    "\n",
    "p200 = instruments.Pipette(\n",
    "    name=\"p200\",              # optional\n",
    "    min_volume=20,            # actual minimum volume of the pipette\n",
    "    axis=\"b\",\n",
    "    channels=1 \n",
    ")\n",
    "\n",
    "p200.set_max_volume(200)  # volume calibration, can be called whenever you want\n",
    "p200.calibrate_plunger(top=0, bottom=15, blow_out=18, drop_tip=20)"
   ]
  },
  {
   "cell_type": "markdown",
   "metadata": {},
   "source": [
    "### Write your protocol instrunctions"
   ]
  },
  {
   "cell_type": "code",
   "execution_count": 60,
   "metadata": {
    "collapsed": false
   },
   "outputs": [
    {
     "data": {
      "text/plain": [
       "'<opentrons_sdk.robot.command.Command object at 0x104c5c6a0>'"
      ]
     },
     "execution_count": 60,
     "metadata": {},
     "output_type": "execute_result"
    }
   ],
   "source": [
    "robot.clear()\n",
    "# Tell a pipette to aspirate 100 uL from well 0 in tuberack\n",
    "p200.aspirate(100, tuberack[0])"
   ]
  },
  {
   "cell_type": "code",
   "execution_count": null,
   "metadata": {
    "collapsed": true
   },
   "outputs": [],
   "source": [
    "# Run. Use mode=simulate to run on a virtual robot\n",
    "robot.run(mode='simulate')"
   ]
  },
  {
   "cell_type": "code",
   "execution_count": null,
   "metadata": {
    "collapsed": true
   },
   "outputs": [],
   "source": [
    "# Calibrate deck\n"
   ]
  },
  {
   "cell_type": "code",
   "execution_count": null,
   "metadata": {
    "collapsed": true
   },
   "outputs": [],
   "source": [
    "# Connect to a robot and run\n",
    "robot.connect('/dev/tty.usbmdem1234')\n",
    "robot.run(mode='live')"
   ]
  }
 ],
 "metadata": {
  "kernelspec": {
   "display_name": "Python 3",
   "language": "python",
   "name": "python3"
  },
  "language_info": {
   "codemirror_mode": {
    "name": "ipython",
    "version": 3
   },
   "file_extension": ".py",
   "mimetype": "text/x-python",
   "name": "python",
   "nbconvert_exporter": "python",
   "pygments_lexer": "ipython3",
   "version": "3.5.1"
  }
 },
 "nbformat": 4,
 "nbformat_minor": 0
}
